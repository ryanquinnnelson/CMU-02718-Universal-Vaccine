{
 "cells": [
  {
   "cell_type": "markdown",
   "metadata": {},
   "source": [
    "## Environment Setup\n",
    "\n",
    "We are using the standalone version of the iedb population coverage tool. Make sure you have that installed first by running the following commands:"
   ]
  },
  {
   "cell_type": "code",
   "execution_count": 1,
   "metadata": {},
   "outputs": [
    {
     "name": "stdout",
     "output_type": "stream",
     "text": [
      "* You must have 'numpy' and 'matplotlib' packages installed.\r\n",
      "Run this command to install them:\r\n",
      "$ pip install numpy matplotlib==2.0.0\r\n",
      "\r\n",
      "That's it. You're all set!\r\n"
     ]
    }
   ],
   "source": [
    "# install the iedb population coverage tool\n",
    "! python ./env/iedb_PopTool/configure.py"
   ]
  },
  {
   "cell_type": "code",
   "execution_count": 2,
   "metadata": {},
   "outputs": [
    {
     "name": "stdout",
     "output_type": "stream",
     "text": [
      "usage: python calculate_population_coverage.py [-h] -p [POPULATION] -c [MHC_CLASS] -f [FILE]\r\n",
      "\r\n",
      "Created on: 03/06/2017 @author: Dorjee Gyaltsen @brief: calculates population\r\n",
      "coverage - standalone version\r\n",
      "\r\n",
      "optional arguments:\r\n",
      "  -h, --help            show this help message and exit\r\n",
      "  --list                list all population and ethnicity\r\n",
      "  --plot PATH           generate a plot.\r\n",
      "  --version             show program's version number and exit\r\n",
      "\r\n",
      "required arguments:\r\n",
      "  -p POPULATION [POPULATION ...], --population POPULATION [POPULATION ...]\r\n",
      "                        select comma-separated area(s) or population(s)\r\n",
      "  -c MHC_CLASS [MHC_CLASS ...], --mhc_class MHC_CLASS [MHC_CLASS ...]\r\n",
      "                        select one or more comma-separated mhc class option -\r\n",
      "                        I, II, combined\r\n",
      "  -f FILE, --file FILE  a file containing a list of epitopes and associated\r\n",
      "                        alleles (comma-separated)\r\n"
     ]
    }
   ],
   "source": [
    "# display population tool usage\n",
    "! python ./env/iedb_PopTool/calculate_population_coverage.py --help"
   ]
  },
  {
   "cell_type": "code",
   "execution_count": null,
   "metadata": {},
   "outputs": [],
   "source": [
    "# import dependencies\n",
    "import pandas as pd"
   ]
  },
  {
   "cell_type": "markdown",
   "metadata": {},
   "source": [
    "## MHC Class-I"
   ]
  },
  {
   "cell_type": "code",
   "execution_count": 15,
   "metadata": {},
   "outputs": [],
   "source": [
    "df = pd.read_csv('./data/Binding_Prediction/mhc1_test1/mhc1_test1_api_result.csv', sep=',', usecols=['allele', 'peptide'])\n",
    "df.to_csv('./data/PopulationCoverage/mhc_1/input.txt', index=False, header=False, sep='\\t', columns=['peptide', 'allele'])"
   ]
  },
  {
   "cell_type": "code",
   "execution_count": 17,
   "metadata": {},
   "outputs": [],
   "source": [
    "! python ./env/iedb_PopTool/calculate_population_coverage.py -p World -c I -f ./data/PopulationCoverage/mhc_1/input.txt > ./data/PopulationCoverage/mhc_1/output.txt"
   ]
  },
  {
   "cell_type": "markdown",
   "metadata": {},
   "source": [
    "## MHC Class-II"
   ]
  },
  {
   "cell_type": "code",
   "execution_count": 31,
   "metadata": {},
   "outputs": [
    {
     "data": {
      "text/html": [
       "<div>\n",
       "<style scoped>\n",
       "    .dataframe tbody tr th:only-of-type {\n",
       "        vertical-align: middle;\n",
       "    }\n",
       "\n",
       "    .dataframe tbody tr th {\n",
       "        vertical-align: top;\n",
       "    }\n",
       "\n",
       "    .dataframe thead th {\n",
       "        text-align: right;\n",
       "    }\n",
       "</style>\n",
       "<table border=\"1\" class=\"dataframe\">\n",
       "  <thead>\n",
       "    <tr style=\"text-align: right;\">\n",
       "      <th></th>\n",
       "      <th>allele</th>\n",
       "      <th>peptide</th>\n",
       "    </tr>\n",
       "  </thead>\n",
       "  <tbody>\n",
       "    <tr>\n",
       "      <td>0</td>\n",
       "      <td>HLA-DRB1*04:05</td>\n",
       "      <td>SLYNTVATLYCVHQR</td>\n",
       "    </tr>\n",
       "    <tr>\n",
       "      <td>1</td>\n",
       "      <td>HLA-DRB1*04:01</td>\n",
       "      <td>SLYNTVATLYCVHQR</td>\n",
       "    </tr>\n",
       "    <tr>\n",
       "      <td>2</td>\n",
       "      <td>HLA-DRB1*04:01</td>\n",
       "      <td>LYNTVATLYCVHQRI</td>\n",
       "    </tr>\n",
       "    <tr>\n",
       "      <td>3</td>\n",
       "      <td>HLA-DQA1*01:02,DQB1*06:02</td>\n",
       "      <td>LYNTVATLYCVHQRI</td>\n",
       "    </tr>\n",
       "    <tr>\n",
       "      <td>4</td>\n",
       "      <td>HLA-DQA1*01:02,DQB1*06:02</td>\n",
       "      <td>SLYNTVATLYCVHQR</td>\n",
       "    </tr>\n",
       "    <tr>\n",
       "      <td>...</td>\n",
       "      <td>...</td>\n",
       "      <td>...</td>\n",
       "    </tr>\n",
       "    <tr>\n",
       "      <td>103</td>\n",
       "      <td>HLA-DRB1*01:01</td>\n",
       "      <td>NTVATLYCVHQRIDV</td>\n",
       "    </tr>\n",
       "    <tr>\n",
       "      <td>104</td>\n",
       "      <td>HLA-DRB1*09:01</td>\n",
       "      <td>YNTVATLYCVHQRID</td>\n",
       "    </tr>\n",
       "    <tr>\n",
       "      <td>105</td>\n",
       "      <td>HLA-DRB1*08:02</td>\n",
       "      <td>NTVATLYCVHQRIDV</td>\n",
       "    </tr>\n",
       "    <tr>\n",
       "      <td>106</td>\n",
       "      <td>HLA-DQA1*05:01,DQB1*03:01</td>\n",
       "      <td>NTVATLYCVHQRIDV</td>\n",
       "    </tr>\n",
       "    <tr>\n",
       "      <td>107</td>\n",
       "      <td>HLA-DRB1*03:01</td>\n",
       "      <td>YNTVATLYCVHQRID</td>\n",
       "    </tr>\n",
       "  </tbody>\n",
       "</table>\n",
       "<p>108 rows × 2 columns</p>\n",
       "</div>"
      ],
      "text/plain": [
       "                        allele          peptide\n",
       "0               HLA-DRB1*04:05  SLYNTVATLYCVHQR\n",
       "1               HLA-DRB1*04:01  SLYNTVATLYCVHQR\n",
       "2               HLA-DRB1*04:01  LYNTVATLYCVHQRI\n",
       "3    HLA-DQA1*01:02,DQB1*06:02  LYNTVATLYCVHQRI\n",
       "4    HLA-DQA1*01:02,DQB1*06:02  SLYNTVATLYCVHQR\n",
       "..                         ...              ...\n",
       "103             HLA-DRB1*01:01  NTVATLYCVHQRIDV\n",
       "104             HLA-DRB1*09:01  YNTVATLYCVHQRID\n",
       "105             HLA-DRB1*08:02  NTVATLYCVHQRIDV\n",
       "106  HLA-DQA1*05:01,DQB1*03:01  NTVATLYCVHQRIDV\n",
       "107             HLA-DRB1*03:01  YNTVATLYCVHQRID\n",
       "\n",
       "[108 rows x 2 columns]"
      ]
     },
     "execution_count": 31,
     "metadata": {},
     "output_type": "execute_result"
    }
   ],
   "source": [
    "df = pd.read_csv('./data/Binding_Prediction/mhc2_test1/mhc2_test1_api_result.csv', sep=',', usecols=['allele', 'peptide'])\n",
    "df['allele'] = df['allele'].str.replace('/', ',')\n",
    "df.to_csv('./data/PopulationCoverage/mhc_2/input.txt', index=False, header=False, sep='\\t', columns=['peptide', 'allele'])"
   ]
  },
  {
   "cell_type": "code",
   "execution_count": 32,
   "metadata": {},
   "outputs": [],
   "source": [
    "! python ./env/iedb_PopTool/calculate_population_coverage.py -p World -c II -f ./data/PopulationCoverage/mhc_2/input.txt > ./data/PopulationCoverage/mhc_2/output.txt"
   ]
  },
  {
   "cell_type": "code",
   "execution_count": null,
   "metadata": {},
   "outputs": [],
   "source": []
  }
 ],
 "metadata": {
  "kernelspec": {
   "display_name": "Python 3",
   "language": "python",
   "name": "python3"
  },
  "language_info": {
   "codemirror_mode": {
    "name": "ipython",
    "version": 3
   },
   "file_extension": ".py",
   "mimetype": "text/x-python",
   "name": "python",
   "nbconvert_exporter": "python",
   "pygments_lexer": "ipython3",
   "version": "3.7.4"
  }
 },
 "nbformat": 4,
 "nbformat_minor": 2
}
