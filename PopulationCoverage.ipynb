{
 "cells": [
  {
   "cell_type": "markdown",
   "metadata": {},
   "source": [
    "## Environment Setup\n",
    "\n",
    "We are using the standalone version of the iedb population coverage tool. Make sure you have that installed first by running the following commands:"
   ]
  },
  {
   "cell_type": "code",
   "execution_count": 1,
   "metadata": {},
   "outputs": [
    {
     "name": "stdout",
     "output_type": "stream",
     "text": [
      "* You must have 'numpy' and 'matplotlib' packages installed.\r\n",
      "Run this command to install them:\r\n",
      "$ pip install numpy matplotlib==2.0.0\r\n",
      "\r\n",
      "That's it. You're all set!\r\n"
     ]
    }
   ],
   "source": [
    "# install the iedb population coverage tool\n",
    "! python ./env/iedb_PopTool/configure.py"
   ]
  },
  {
   "cell_type": "code",
   "execution_count": 2,
   "metadata": {},
   "outputs": [
    {
     "name": "stdout",
     "output_type": "stream",
     "text": [
      "usage: python calculate_population_coverage.py [-h] -p [POPULATION] -c [MHC_CLASS] -f [FILE]\r\n",
      "\r\n",
      "Created on: 03/06/2017 @author: Dorjee Gyaltsen @brief: calculates population\r\n",
      "coverage - standalone version\r\n",
      "\r\n",
      "optional arguments:\r\n",
      "  -h, --help            show this help message and exit\r\n",
      "  --list                list all population and ethnicity\r\n",
      "  --plot PATH           generate a plot.\r\n",
      "  --version             show program's version number and exit\r\n",
      "\r\n",
      "required arguments:\r\n",
      "  -p POPULATION [POPULATION ...], --population POPULATION [POPULATION ...]\r\n",
      "                        select comma-separated area(s) or population(s)\r\n",
      "  -c MHC_CLASS [MHC_CLASS ...], --mhc_class MHC_CLASS [MHC_CLASS ...]\r\n",
      "                        select one or more comma-separated mhc class option -\r\n",
      "                        I, II, combined\r\n",
      "  -f FILE, --file FILE  a file containing a list of epitopes and associated\r\n",
      "                        alleles (comma-separated)\r\n"
     ]
    }
   ],
   "source": [
    "# display population tool usage\n",
    "! python ./env/iedb_PopTool/calculate_population_coverage.py --help"
   ]
  },
  {
   "cell_type": "code",
   "execution_count": 3,
   "metadata": {},
   "outputs": [],
   "source": [
    "# import dependencies\n",
    "import pandas as pd"
   ]
  },
  {
   "cell_type": "markdown",
   "metadata": {},
   "source": [
    "## MHC Class-I"
   ]
  },
  {
   "cell_type": "code",
   "execution_count": 4,
   "metadata": {},
   "outputs": [],
   "source": [
    "df_1 = pd.read_csv('./data/Binding_Prediction/mhc1_test3/mhc1_test3_api_result.csv', sep=',')\n",
    "df_1.to_csv('./data/PopulationCoverage/mhc_1/input.txt', index=False, header=False, sep='\\t', columns=['peptide', 'allele'])"
   ]
  },
  {
   "cell_type": "code",
   "execution_count": 5,
   "metadata": {},
   "outputs": [],
   "source": [
    "! python ./env/iedb_PopTool/calculate_population_coverage.py -p World -c I -f ./data/PopulationCoverage/mhc_1/input.txt > ./data/PopulationCoverage/mhc_1/output.txt"
   ]
  },
  {
   "cell_type": "markdown",
   "metadata": {},
   "source": [
    "## MHC Class-II"
   ]
  },
  {
   "cell_type": "code",
   "execution_count": 6,
   "metadata": {},
   "outputs": [],
   "source": [
    "df_2 = pd.read_csv('./data/Binding_Prediction/mhc2_test3/mhc2_test3_api_result.csv', sep=',')\n",
    "df_2['allele'] = df_2['allele'].str.replace('/', ',')\n",
    "df_2.to_csv('./data/PopulationCoverage/mhc_2/input.txt', index=False, header=False, sep='\\t', columns=['peptide', 'allele'])"
   ]
  },
  {
   "cell_type": "code",
   "execution_count": 7,
   "metadata": {},
   "outputs": [],
   "source": [
    "! python ./env/iedb_PopTool/calculate_population_coverage.py -p World -c II -f ./data/PopulationCoverage/mhc_2/input.txt > ./data/PopulationCoverage/mhc_2/output.txt"
   ]
  },
  {
   "cell_type": "markdown",
   "metadata": {},
   "source": [
    "## Result Procession"
   ]
  },
  {
   "cell_type": "code",
   "execution_count": 8,
   "metadata": {},
   "outputs": [],
   "source": [
    "def GetSeq (re_path, df):\n",
    "    re_df = pd.read_csv(re_path, skiprows=6, sep='\\t')\n",
    "    cov_seqs = df.iloc[re_df.index[re_df['percent_individuals']!=0].tolist(), :]\n",
    "    return cov_seqs"
   ]
  },
  {
   "cell_type": "code",
   "execution_count": 9,
   "metadata": {},
   "outputs": [],
   "source": [
    "GetSeq('./data/PopulationCoverage/mhc_1/output.txt', df_1).to_csv('./data/PopulationCoverage/mhc_1/output_seqs.txt', sep='\\t')\n",
    "GetSeq('./data/PopulationCoverage/mhc_2/output.txt', df_2).to_csv('./data/PopulationCoverage/mhc_2/output_seqs.txt', sep='\\t')"
   ]
  },
  {
   "cell_type": "code",
   "execution_count": null,
   "metadata": {},
   "outputs": [],
   "source": []
  }
 ],
 "metadata": {
  "kernelspec": {
   "display_name": "Python 3",
   "language": "python",
   "name": "python3"
  },
  "language_info": {
   "codemirror_mode": {
    "name": "ipython",
    "version": 3
   },
   "file_extension": ".py",
   "mimetype": "text/x-python",
   "name": "python",
   "nbconvert_exporter": "python",
   "pygments_lexer": "ipython3",
   "version": "3.7.4"
  }
 },
 "nbformat": 4,
 "nbformat_minor": 2
}
