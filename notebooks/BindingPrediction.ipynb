{
  "nbformat": 4,
  "nbformat_minor": 0,
  "metadata": {
    "colab": {
      "name": "02-518/02-718 Homework 4 Template",
      "provenance": [],
      "collapsed_sections": []
    },
    "kernelspec": {
      "name": "python3",
      "display_name": "Python 3"
    }
  },
  "cells": [
    {
      "cell_type": "markdown",
      "metadata": {
        "id": "Iy3teqLuUO0a"
      },
      "source": [
        "# Instructions\n",
        "\n",
        "For each question, a rough outline has been provided to help you get started under \"Part 1.x: Work\". Feel free to either follow the outline or use your own method for solving the problem. In either case, however, please make sure to include your work in these sections and fill in your answer in the cell titled \"Part 1.x: Answer\".\n",
        "\n",
        "**Embedding Images in the Notebook**\n",
        "\n",
        "To upload an image in a markdown cell in Jupyter Notebook:\n",
        "1. Go to the menu bar and select Edit -> Insert Image.\n",
        "\n",
        "2. Select image from your disk and upload.\n",
        "\n",
        "3. Press Ctrl+Enter or Shift+Enter.\n",
        "\n",
        "This will make the image as part of the notebook and you don't need to upload it in the directory\n",
        "\n",
        "**Export Jupyter Notebooks**  \n",
        "In your local computer, open the notebook you would like to export and navigate to 'File' at the top menu bar. By clickling 'File', you can find 'Download as' in the drop-down menu. Select the format you want to export the notebook as: either directly as a pdf, or if you download it as an html file, use a website like [html2pdf.com](https://html2pdf.com) to convert it to a pdf file for submission on Gradescope.\n",
        "\n",
        "Colab does not seem to support exporting their notebooks to other formats, so if you choose to use Colab, you will need to download the notebook as an .ipynb file before following the steps above on your local machine."
      ]
    },
    {
      "cell_type": "markdown",
      "metadata": {
        "id": "H0zzS9dpUpNM"
      },
      "source": [
        "# Question 1\n",
        "## Part 1.1 Implement an agent-based model \n",
        "\n",
        "You can use the following template or feel free to implement your own program. Please refer to the handout for details about parameters settings. "
      ]
    },
    {
      "cell_type": "code",
      "metadata": {
        "id": "d4brKchREiYS"
      },
      "source": [
        "import random\n",
        "\n",
        "import numpy as np\n",
        "import matplotlib.pyplot as plt\n",
        "from IPython.display import display, clear_output\n",
        "\n",
        "\n",
        "class Agent:\n",
        "  statuses = ['R', 'S', 'I', 'Q']\n",
        "\n",
        "  def __init__(self, position, status, percent_mask, percent_distancing):\n",
        "    \"\"\"\n",
        "    Initialize an agent. \n",
        "    \n",
        "    \"\"\"\n",
        " \n",
        "class ABM:\n",
        "  directions = [[-1,0], # left\n",
        "                [1,0], # right\n",
        "                [0,-1], # up\n",
        "                [0,1], # down\n",
        "                [-1,-1], # left & up\n",
        "                [-1,1], # left & down\n",
        "                [1,-1], # right & up\n",
        "                [1,1]] # right & down\n",
        "\n",
        "  statusColors = {'R': 'r', 'S': 'b', 'I': 'g', 'Q': 'k', 'D': 'm'}\n",
        "\n",
        "  def __init__(self, n, m, num_infected, percent_distancing, percent_mask, percent_vaccinated = 0):\n",
        "    \"\"\"\n",
        "    Initialize the world and agents in the world. \n",
        "\n",
        "    Parameters:\n",
        "      n: size of the world\n",
        "      m: number of agents \n",
        "    \n",
        "    \"\"\"\n",
        "           \n",
        "  def moveAgent(self, agent):\n",
        "    \"\"\"\n",
        "    Move an agent and update status based on conditions. \n",
        "\n",
        "    \"\"\"\n",
        "\n",
        "  def addCounts(self):\n",
        "      counts = {'R': self.num_recovered, 'D': self.num_dead, 'I': self.num_infected, 'S': self.num_susceptible, 'Q': self.num_quarantine}\n",
        "      self.counts.append(counts)\n",
        "\n",
        "  def runSimulation(self, num_steps):\n",
        "    for t in range(num_steps):\n",
        "      for agent in self.agents:\n",
        "        self.moveAgent(agent)\n",
        "      \n",
        "      self.addCounts()\n",
        "    \n",
        "    return self.counts\n",
        "\n",
        " \n",
        "  def runAndVisualizeSimulation(self, num_steps):\n",
        "    \"\"\"\n",
        "    Helper function for de-bugging. \n",
        "    \n",
        "    \"\"\"\n",
        "\n",
        "    fig = plt.figure()\n",
        "    ax = fig.add_subplot(1,1,1)\n",
        "\n",
        "    for t in range(num_steps):\n",
        "      ax.cla()\n",
        "      \n",
        "      for agent in self.agents:\n",
        "        self.moveAgent(agent)\n",
        "        c = self.statusColors[agent.status]\n",
        "        m = 'o' if agent.is_distancing else 's'\n",
        "\n",
        "        ax.scatter(agent.x, agent.y, c=c, marker=m)\n",
        "\n",
        "      ax.grid(True)\n",
        "      ax.set_xticks(list(range(self.n)))\n",
        "      ax.set_yticks(list(range(self.n)))  \n",
        "\n",
        "      display(fig)\n",
        "      clear_output(wait=True)\n",
        "\n",
        "      plt.pause(5)\n",
        "\n",
        "\n"
      ],
      "execution_count": null,
      "outputs": []
    },
    {
      "cell_type": "code",
      "metadata": {
        "id": "qpnjzgwUOXcQ"
      },
      "source": [
        " def runAndPlotSimulations(num_simulations, num_steps, world_size, num_agents, num_infected, percent_distancing, percent_mask, percent_vaccinated):\n",
        "    sim_counts = []\n",
        "    for i in range(num_simulations):\n",
        "      model = ABM(world_size, num_agents, num_infected, percent_distancing, percent_mask, percent_vaccinated)\n",
        "      counts = model.runSimulation(num_steps)\n",
        "      sim_counts.append(counts)\n",
        "\n",
        "\n",
        "    statusColors = {'R': 'r', 'S': 'b', 'I': 'g', 'Q': 'k', 'D': 'm'}\n",
        "    fig, ax = plt.subplots(figsize=(20, 10))\n",
        "    x = list(range(num_steps))\n",
        "\n",
        "    for status in ['R', 'S', 'I', 'Q', 'D']:\n",
        "      avgs = []\n",
        "      errs = []\n",
        "      for j in range(num_steps):\n",
        "        stats = np.array([counts[j][status] for counts in sim_counts])\n",
        "        avgs.append(np.mean(stats))\n",
        "        errs.append(np.std(stats))\n",
        "\n",
        "      ax.errorbar(x,avgs,yerr=errs, fmt=statusColors[status], label=status)\n",
        "\n",
        "    ax.legend(loc=\"upper left\", bbox_to_anchor=(1, 0.5))\n",
        "    plt.show()"
      ],
      "execution_count": null,
      "outputs": []
    },
    {
      "cell_type": "markdown",
      "metadata": {
        "id": "au-iJk4-W3P_"
      },
      "source": [
        "## 1.2 Run 10 simulations, each of which tracks 250 agents over 365 days in a 25 x 25 world with the following initial conditions: \n",
        "\n",
        "* 5 infected agents (I), the rest are susceptible (S)\n",
        "* 0% of agents wear masks\n",
        "* 0% of agents practice physical distancing\n",
        "\n",
        "Keep track of the number of S, I,Q,R, and D agents over time in each simulation. Plot the averages of these trajectories with standard error bars. \n",
        "What is the final value of R?\n",
        "What is the peak number of active cases (I+Q)? \n",
        "How many days does it take for the virus to go extinct (i.e. I+Q=0)? \n"
      ]
    },
    {
      "cell_type": "code",
      "metadata": {
        "id": "7HqPHPgoYqj6"
      },
      "source": [
        "# runAndPlotSimulations(10, 365, 25, 250, num_infected, percent_distancing, percent_mask, percent_vaccinated)"
      ],
      "execution_count": null,
      "outputs": []
    },
    {
      "cell_type": "markdown",
      "metadata": {
        "id": "5wrdY0rtY8gl"
      },
      "source": [
        "## 1.3 Run 10 simulations, each of which tracks 250 agents over 365 days in a 25 x 25 world with the following initial conditions: \n",
        "\n",
        "\n",
        "*   5 infected agents (I), the rest are susceptible (S)\n",
        "*   p% of agents wear masks\n",
        "*   p% of agents practice physical distancing\n",
        "\n",
        "Keep track of the number of S, I,Q,R, and D agents over time in each simulation. Plot the averages of these trajectories with standard error bars. \n",
        "What value of p reduces the final value of R to roughly half of the final value of R you obtained for part 1.2?\n",
        "What is the final value of R?\n",
        "What is the peak number of active cases (I+Q)? \n",
        "How many days does it take for the virus to go extinct (i.e. I+Q=0)? "
      ]
    },
    {
      "cell_type": "code",
      "metadata": {
        "id": "P8lA2NpqY8Mq"
      },
      "source": [
        "# runAndPlotSimulations(10, 365, 25, 250, num_infected, percent_distancing, percent_mask, percent_vaccinated)"
      ],
      "execution_count": null,
      "outputs": []
    },
    {
      "cell_type": "markdown",
      "metadata": {
        "id": "RiLt650YZetp"
      },
      "source": [
        "## 1.4 Run 10 simulations, each of which tracks 250 agents over 365 days in a 25 x 25 world with the following initial conditions: \n",
        "\n",
        "\n",
        "*   5 infected agents (I), p% of agents have been vaccinated (i.e., start in state R), the rest are susceptible (S)\n",
        "*   0% of agents wear masks\n",
        "*   0% of agents practice physical distancing\n",
        "\n",
        "\n",
        "Keep track of the number of S, I,Q,R, and D agents over time in each simulation. Plot the averages of these trajectories with standard errors. \n",
        "What value of p reduces the peak number of active cases (I+Q) to roughly half of the final value of (I+Q) you obtained for part 1.2?\n",
        "What is the final value of R?\n",
        "What is the peak number of active cases (I+Q)? \n",
        "How many days does it take for the virus to go extinct (i.e. I+Q=0)? "
      ]
    },
    {
      "cell_type": "code",
      "metadata": {
        "id": "fX_rIBLNZeJh"
      },
      "source": [
        "# runAndPlotSimulations(10, 365, 25, 250, num_infected, percent_distancing, percent_mask, percent_vaccinated)"
      ],
      "execution_count": null,
      "outputs": []
    }
  ]
}