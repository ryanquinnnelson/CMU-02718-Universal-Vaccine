{
 "cells": [
  {
   "cell_type": "markdown",
   "metadata": {
    "id": "Iy3teqLuUO0a"
   },
   "source": [
    "# Binding Prediction via API\n",
    "\n",
    "http://tools.iedb.org/main/tools-api/"
   ]
  },
  {
   "cell_type": "markdown",
   "metadata": {},
   "source": [
    "## Functions to Read Data"
   ]
  },
  {
   "cell_type": "code",
   "execution_count": 26,
   "metadata": {},
   "outputs": [],
   "source": [
    "import pandas as pd\n",
    "import os\n",
    "\n",
    "\n",
    "def get_csv_filenames(dirname):\n",
    "    '''\n",
    "    Returns a list of fully-qualified filenames \n",
    "    in dirname which end with \".csv\".\n",
    "    '''\n",
    "    csv_files = []\n",
    "    for f in os.listdir(dirname):\n",
    "        if f.endswith('.csv'):\n",
    "            csv_files.append(dirname + '/'+ f)\n",
    "    return csv_files\n",
    "\n",
    "\n",
    "def build_conserved_dataframe(filelist,minlength=0):\n",
    "    '''\n",
    "    Reads in all data from the files in the given filelist and\n",
    "    returns one DataFrame in which all data is appended together.\n",
    "    '''\n",
    "    dlist = []\n",
    "    for f in filelist:\n",
    "        \n",
    "        # read in dataframe for each file\n",
    "        df = pd.read_csv(f)\n",
    "        \n",
    "        # validation for dimensions\n",
    "        if df.shape[1] != 4:\n",
    "            raise ValueError('File does not contain the required number of columns:', f)\n",
    "          \n",
    "        # filter out peptides which don't meet minimum length\n",
    "        df = df[df['Length'] >= minlength]\n",
    "\n",
    "        # add dataframe to list\n",
    "        dlist.append(df)\n",
    "        \n",
    "    return pd.concat(dlist, axis=0, ignore_index=True)"
   ]
  },
  {
   "cell_type": "code",
   "execution_count": 2,
   "metadata": {},
   "outputs": [
    {
     "name": "stdout",
     "output_type": "stream",
     "text": [
      "test get_csv_filenames()\n",
      "[]\n"
     ]
    },
    {
     "data": {
      "text/plain": [
       "['data/ConservedRegion_Ryan/SARS_Conserved2796.csv']"
      ]
     },
     "execution_count": 2,
     "metadata": {},
     "output_type": "execute_result"
    }
   ],
   "source": [
    "print('test get_csv_filenames()')\n",
    "\n",
    "print(get_csv_filenames('data'))\n",
    "\n",
    "testlist = get_csv_filenames('data/ConservedRegion_Ryan')\n",
    "testlist"
   ]
  },
  {
   "cell_type": "code",
   "execution_count": 3,
   "metadata": {},
   "outputs": [
    {
     "name": "stdout",
     "output_type": "stream",
     "text": [
      "test build_conserved_dataframe()\n"
     ]
    },
    {
     "data": {
      "text/html": [
       "<div>\n",
       "<style scoped>\n",
       "    .dataframe tbody tr th:only-of-type {\n",
       "        vertical-align: middle;\n",
       "    }\n",
       "\n",
       "    .dataframe tbody tr th {\n",
       "        vertical-align: top;\n",
       "    }\n",
       "\n",
       "    .dataframe thead th {\n",
       "        text-align: right;\n",
       "    }\n",
       "</style>\n",
       "<table border=\"1\" class=\"dataframe\">\n",
       "  <thead>\n",
       "    <tr style=\"text-align: right;\">\n",
       "      <th></th>\n",
       "      <th>Index</th>\n",
       "      <th>Sequence</th>\n",
       "      <th>Length</th>\n",
       "      <th>Virus Name</th>\n",
       "    </tr>\n",
       "  </thead>\n",
       "  <tbody>\n",
       "    <tr>\n",
       "      <th>0</th>\n",
       "      <td>(936, 944)</td>\n",
       "      <td>YRFNGIGVT</td>\n",
       "      <td>9</td>\n",
       "      <td>SARS</td>\n",
       "    </tr>\n",
       "    <tr>\n",
       "      <th>1</th>\n",
       "      <td>(1008, 1023)</td>\n",
       "      <td>VLNDILSRLDKVEAEV</td>\n",
       "      <td>16</td>\n",
       "      <td>SARS</td>\n",
       "    </tr>\n",
       "  </tbody>\n",
       "</table>\n",
       "</div>"
      ],
      "text/plain": [
       "          Index          Sequence  Length Virus Name\n",
       "0    (936, 944)         YRFNGIGVT       9       SARS\n",
       "1  (1008, 1023)  VLNDILSRLDKVEAEV      16       SARS"
      ]
     },
     "execution_count": 3,
     "metadata": {},
     "output_type": "execute_result"
    }
   ],
   "source": [
    "print('test build_conserved_dataframe()')\n",
    "\n",
    "df_test = build_conserved_dataframe(testlist).head(2)\n",
    "df_test"
   ]
  },
  {
   "cell_type": "markdown",
   "metadata": {},
   "source": [
    "## Functions to Define Alleles-Length combinations to test\n",
    "The API allows us to define multiple alleles to predicting binding against, as well as multiple lengths for each of those alleles. \n",
    "\n",
    "The parameters must be listed as \n",
    "```allele='Allele1,Allele2'```\n",
    "and\n",
    "```length='Length1,Length2'```\n",
    "where each length matches the order of alleles."
   ]
  },
  {
   "cell_type": "code",
   "execution_count": 4,
   "metadata": {},
   "outputs": [],
   "source": [
    "def build_alleles_and_length_strings(alleles,lengths):\n",
    "    '''\n",
    "    Given a list of alleles and list of lengths, generates two\n",
    "    strings: (1) an allele string; (2) a lengths string, then\n",
    "    returns a tuple (alleles_string, lengths_string).\n",
    "    \n",
    "    For each length in lengths, every allele in alleles is\n",
    "    concatenated into a single comma-delimited string. For\n",
    "    each allele in alleles, every length in lengths is \n",
    "    concatenated into a single comma-delimited string.    \n",
    "    \n",
    "    For example, given lengths=[1,2] and alleles=['A','B']:\n",
    "    \n",
    "    alleles_string='A,B,A,B'\n",
    "    lengths_string='1,1,2,2'\n",
    "    '''\n",
    "    \n",
    "    a_list = list()\n",
    "    l_list = list()\n",
    "    \n",
    "    for l in lengths:\n",
    "        a_list += alleles # create a copy of the alleles for each length\n",
    "        l_list += [str(l) for i in range(len(alleles))] # generate a length for each allele in the copy\n",
    "        \n",
    "    # concatenate elements in each list with comma separator\n",
    "    joined_a = \",\".join(a_list)\n",
    "    joined_l = \",\".join(l_list)\n",
    "    \n",
    "    return (joined_a,joined_l) "
   ]
  },
  {
   "cell_type": "code",
   "execution_count": 5,
   "metadata": {},
   "outputs": [
    {
     "name": "stdout",
     "output_type": "stream",
     "text": [
      "test build_alleles_and_length_strings()\n"
     ]
    },
    {
     "data": {
      "text/plain": [
       "('HLA-A*01:01,HLA-A*02:01,HLA-A*01:01,HLA-A*02:01', '9,9,10,10')"
      ]
     },
     "execution_count": 5,
     "metadata": {},
     "output_type": "execute_result"
    }
   ],
   "source": [
    "print('test build_alleles_and_length_strings()')\n",
    "\n",
    "hla_ref_set_test = ['HLA-A*01:01','HLA-A*02:01']\n",
    "lengths_list_test = [9,10]\n",
    "build_alleles_and_length_strings(hla_ref_set_test,lengths_list_test)"
   ]
  },
  {
   "cell_type": "markdown",
   "metadata": {},
   "source": [
    "## Functions to Perform Binding Prediction via API"
   ]
  },
  {
   "cell_type": "code",
   "execution_count": 6,
   "metadata": {},
   "outputs": [],
   "source": [
    "import requests\n",
    "  \n",
    "def predict_binding(a_set,l_set,sequence,site):\n",
    "    '''\n",
    "    For MHC I, the default value for species is human.\n",
    "    For MHC II, the default value for species is not possible to specify.\n",
    "    '''\n",
    "    \n",
    "    # define post\n",
    "    data = {'method':'recommended',\n",
    "            'allele':a_set,\n",
    "            'length':l_set,\n",
    "            'sequence_text':sequence} \n",
    "\n",
    "    # perform prediction\n",
    "    return requests.post(site, data=data)"
   ]
  },
  {
   "cell_type": "code",
   "execution_count": 7,
   "metadata": {},
   "outputs": [
    {
     "name": "stdout",
     "output_type": "stream",
     "text": [
      "test predict_binding()\n"
     ]
    }
   ],
   "source": [
    "print('test predict_binding()')\n",
    "\n",
    "mhc1_site = 'http://tools-cluster-interface.iedb.org/tools_api/mhci/'\n",
    "a_set_test = 'HLA-A*01:01'\n",
    "l_set_test = '9'\n",
    "sequence = 'SLYNTVATLYCVHQRIDV'\n",
    "\n",
    "response_test = predict_binding(a_set_test,l_set_test,sequence,mhc1_site)"
   ]
  },
  {
   "cell_type": "code",
   "execution_count": 8,
   "metadata": {},
   "outputs": [
    {
     "name": "stdout",
     "output_type": "stream",
     "text": [
      "allele|seq_num|start|end|length|peptide|core|icore|score|percentile_rank\n",
      "HLA-A*01:01|1|2|10|9|LYNTVATLY|LYNTVATLY|LYNTVATLY|0.0909|1.1\n",
      "HLA-A*01:01|1|7|15|9|ATLYCVHQR|ATLYCVHQR|ATLYCVHQR|0.00262|8.2\n",
      "HLA-A*01:01|1|1|9|9|SLYNTVATL|SLYNTVATL|SLYNTVATL|0.00218|9.1\n",
      "HLA-A*01:01|1|4|12|9|NTVATLYCV|NTVATLYCV|NTVATLYCV|0.00194|9.8\n",
      "HLA-A*01:01|1|5|13|9|TVATLYCVH|TVATLYCVH|TVATLYCVH|0.00126|13\n",
      "HLA-A*01:01|1|8|16|9|TLYCVHQRI|TLYCVHQRI|TLYCVHQRI|0.000714|18\n",
      "HLA-A*01:01|1|10|18|9|YCVHQRIDV|YCVHQRIDV|YCVHQRIDV|0.000293|30\n",
      "HLA-A*01:01|1|3|11|9|YNTVATLYC|YNTVATLYC|YNTVATLYC|0.000256|32\n",
      "HLA-A*01:01|1|6|14|9|VATLYCVHQ|VATLYCVHQ|VATLYCVHQ|0.000111|47\n",
      "HLA-A*01:01|1|9|17|9|LYCVHQRID|LYCVHQRID|LYCVHQRID|3e-06|98\n",
      "\n"
     ]
    }
   ],
   "source": [
    "for eachline in response_test.text.split('\\n'):\n",
    "    print(eachline.replace('\\t','|'))"
   ]
  },
  {
   "cell_type": "markdown",
   "metadata": {},
   "source": [
    "## Functions to Perform Predictions over entire DataFrame"
   ]
  },
  {
   "cell_type": "code",
   "execution_count": 9,
   "metadata": {},
   "outputs": [],
   "source": [
    "def get_prediction_results(df,alleles_str,lengths_str,site,mhc_class):\n",
    "    '''\n",
    "    Given a DataFrame of conserved sequences, a list of\n",
    "    alleles to be checked for binding, a list of peptide\n",
    "    lengths to check for each allele, and an API site,\n",
    "    performs binding prediction for each sequence in the\n",
    "    DataFrame and returns the results of all predictions\n",
    "    as a list of strings, with the first string as the\n",
    "    column header of the prediction results.\n",
    "    ''' \n",
    "    \n",
    "    # to store results\n",
    "    predictions = []\n",
    "    \n",
    "    # convert DataFrame to numpy array\n",
    "    data = df[['Index','Sequence','Length','Virus Name']].to_numpy()\n",
    "    \n",
    "    # perform binding prediction for each conserved sequence\n",
    "    for i,d in enumerate(data):\n",
    "        \n",
    "        pos,seq,length,virus = d # unpack data\n",
    "        print('.',end='') # visualize progress\n",
    "        \n",
    "        response = predict_binding(alleles_str, lengths_str, seq, site)\n",
    "        \n",
    "        for j,line in enumerate(response.text.split('\\n')):\n",
    "            \n",
    "            if i == 0 and j == 0:\n",
    "                header = line + '\\toriginal sequence\\tvirus\\tclass' # add column to header\n",
    "                predictions.append(header)\n",
    "            elif i != 0 and j == 0:\n",
    "                pass # skip additional copies of response header\n",
    "            elif len(line) == 0:\n",
    "                pass # skip empty lines\n",
    "            elif not '\\t' in line:\n",
    "                pass # skip lines which do not contain data\n",
    "            else:\n",
    "                entry = line + '\\t' + seq + '\\t' + virus + '\\t' + mhc_class # append columns\n",
    "                predictions.append(entry)\n",
    "                \n",
    "    print() # newline to end visualization\n",
    "    return predictions"
   ]
  },
  {
   "cell_type": "code",
   "execution_count": 10,
   "metadata": {
    "scrolled": true
   },
   "outputs": [
    {
     "name": "stdout",
     "output_type": "stream",
     "text": [
      "test get_prediction_results()\n",
      "..\n"
     ]
    },
    {
     "data": {
      "text/plain": [
       "['allele\\tseq_num\\tstart\\tend\\tlength\\tpeptide\\tcore\\ticore\\tscore\\tpercentile_rank\\toriginal sequence\\tvirus\\tclass',\n",
       " 'HLA-A*01:01\\t1\\t1\\t9\\t9\\tYRFNGIGVT\\tYRFNGIGVT\\tYRFNGIGVT\\t6.9e-05\\t56\\tYRFNGIGVT\\tSARS\\tMHC I',\n",
       " 'HLA-A*01:01\\t1\\t8\\t16\\t9\\tRLDKVEAEV\\tRLDKVEAEV\\tRLDKVEAEV\\t0.0218\\t2.5\\tVLNDILSRLDKVEAEV\\tSARS\\tMHC I']"
      ]
     },
     "execution_count": 10,
     "metadata": {},
     "output_type": "execute_result"
    }
   ],
   "source": [
    "print('test get_prediction_results()')\n",
    "\n",
    "mhc1_site_teset = 'http://tools-cluster-interface.iedb.org/tools_api/mhci/'\n",
    "a_set_test = 'HLA-A*01:01'\n",
    "l_set_test = '9'\n",
    "mhc_class_test = 'MHC I'\n",
    "\n",
    "predictions_mhc1_test = get_prediction_results(df_test.head(2),a_set_test,l_set_test,mhc1_site_teset, mhc_class_test)\n",
    "predictions_mhc1_test[:3]"
   ]
  },
  {
   "cell_type": "markdown",
   "metadata": {},
   "source": [
    "## Functions to Write Predictions to File"
   ]
  },
  {
   "cell_type": "code",
   "execution_count": 11,
   "metadata": {},
   "outputs": [],
   "source": [
    "import csv\n",
    "\n",
    "\n",
    "def save_predictions(predictions, filename):\n",
    "    '''\n",
    "    Writes the given list of predictions to file in csv\n",
    "    format with a comma delimiter.\n",
    "    '''\n",
    "    with open(filename, mode='w') as write_file:\n",
    "        file_writer = csv.writer(write_file, delimiter=',')\n",
    "\n",
    "        for row in predictions:\n",
    "            file_writer.writerow(row.split('\\t'))"
   ]
  },
  {
   "cell_type": "code",
   "execution_count": 12,
   "metadata": {},
   "outputs": [
    {
     "name": "stdout",
     "output_type": "stream",
     "text": [
      "test save_predictions()\n"
     ]
    },
    {
     "data": {
      "text/html": [
       "<div>\n",
       "<style scoped>\n",
       "    .dataframe tbody tr th:only-of-type {\n",
       "        vertical-align: middle;\n",
       "    }\n",
       "\n",
       "    .dataframe tbody tr th {\n",
       "        vertical-align: top;\n",
       "    }\n",
       "\n",
       "    .dataframe thead th {\n",
       "        text-align: right;\n",
       "    }\n",
       "</style>\n",
       "<table border=\"1\" class=\"dataframe\">\n",
       "  <thead>\n",
       "    <tr style=\"text-align: right;\">\n",
       "      <th></th>\n",
       "      <th>allele</th>\n",
       "      <th>seq_num</th>\n",
       "      <th>start</th>\n",
       "      <th>end</th>\n",
       "      <th>length</th>\n",
       "      <th>peptide</th>\n",
       "      <th>core</th>\n",
       "      <th>icore</th>\n",
       "      <th>score</th>\n",
       "      <th>percentile_rank</th>\n",
       "      <th>original sequence</th>\n",
       "      <th>virus</th>\n",
       "      <th>class</th>\n",
       "    </tr>\n",
       "  </thead>\n",
       "  <tbody>\n",
       "    <tr>\n",
       "      <th>0</th>\n",
       "      <td>HLA-A*01:01</td>\n",
       "      <td>1</td>\n",
       "      <td>36</td>\n",
       "      <td>44</td>\n",
       "      <td>9</td>\n",
       "      <td>ITYQGLFPY</td>\n",
       "      <td>ITYQGLFPY</td>\n",
       "      <td>ITYQGLFPY</td>\n",
       "      <td>0.339</td>\n",
       "      <td>0.32</td>\n",
       "      <td>DIQQTFFDKTWPRPIDVSKADGIIYPQGRTYSNITITYQGLFPYQG...</td>\n",
       "      <td>MERS</td>\n",
       "      <td>MHC I</td>\n",
       "    </tr>\n",
       "    <tr>\n",
       "      <th>1</th>\n",
       "      <td>HLA-A*01:01</td>\n",
       "      <td>1</td>\n",
       "      <td>17</td>\n",
       "      <td>25</td>\n",
       "      <td>9</td>\n",
       "      <td>VSKADGIIY</td>\n",
       "      <td>VSKADGIIY</td>\n",
       "      <td>VSKADGIIY</td>\n",
       "      <td>0.264</td>\n",
       "      <td>0.43</td>\n",
       "      <td>DIQQTFFDKTWPRPIDVSKADGIIYPQGRTYSNITITYQGLFPYQG...</td>\n",
       "      <td>MERS</td>\n",
       "      <td>MHC I</td>\n",
       "    </tr>\n",
       "  </tbody>\n",
       "</table>\n",
       "</div>"
      ],
      "text/plain": [
       "        allele  seq_num  start  end  length    peptide       core      icore  \\\n",
       "0  HLA-A*01:01        1     36   44       9  ITYQGLFPY  ITYQGLFPY  ITYQGLFPY   \n",
       "1  HLA-A*01:01        1     17   25       9  VSKADGIIY  VSKADGIIY  VSKADGIIY   \n",
       "\n",
       "   score  percentile_rank                                  original sequence  \\\n",
       "0  0.339             0.32  DIQQTFFDKTWPRPIDVSKADGIIYPQGRTYSNITITYQGLFPYQG...   \n",
       "1  0.264             0.43  DIQQTFFDKTWPRPIDVSKADGIIYPQGRTYSNITITYQGLFPYQG...   \n",
       "\n",
       "  virus  class  \n",
       "0  MERS  MHC I  \n",
       "1  MERS  MHC I  "
      ]
     },
     "execution_count": 12,
     "metadata": {},
     "output_type": "execute_result"
    }
   ],
   "source": [
    "print('test save_predictions()')\n",
    "\n",
    "predictions_test = ['allele\\tseq_num\\tstart\\tend\\tlength\\tpeptide\\tcore\\ticore\\tscore\\tpercentile_rank\\toriginal sequence\\tvirus\\tclass',\n",
    " 'HLA-A*01:01\\t1\\t36\\t44\\t9\\tITYQGLFPY\\tITYQGLFPY\\tITYQGLFPY\\t0.339\\t0.32\\tDIQQTFFDKTWPRPIDVSKADGIIYPQGRTYSNITITYQGLFPYQGDHGD\\tMERS\\tMHC I',\n",
    " 'HLA-A*01:01\\t1\\t17\\t25\\t9\\tVSKADGIIY\\tVSKADGIIY\\tVSKADGIIY\\t0.264\\t0.43\\tDIQQTFFDKTWPRPIDVSKADGIIYPQGRTYSNITITYQGLFPYQGDHGD\\tMERS\\tMHC I']\n",
    "writefile_test = 'data/Binding_Prediction/writetest.csv'\n",
    "\n",
    "save_predictions(predictions_test, writefile_test)\n",
    "\n",
    "# read in file\n",
    "write_df_test = pd.read_csv(writefile_test)\n",
    "\n",
    "# delete file\n",
    "if os.path.exists(writefile_test):\n",
    "    os.remove(writefile_test)\n",
    "    \n",
    "write_df_test"
   ]
  },
  {
   "cell_type": "markdown",
   "metadata": {},
   "source": [
    "## MHC I"
   ]
  },
  {
   "cell_type": "code",
   "execution_count": 15,
   "metadata": {},
   "outputs": [],
   "source": [
    "# HLA allele reference set (27 alleles long)\n",
    "hla_ref_set_mhc1 = ['HLA-A*01:01','HLA-A*02:01','HLA-A*02:03','HLA-A*02:06','HLA-A*03:01','HLA-A*11:01','HLA-A*23:01','HLA-A*24:02','HLA-A*26:01','HLA-A*30:01','HLA-A*30:02','HLA-A*31:01','HLA-A*32:01','HLA-A*33:01','HLA-A*68:01','HLA-A*68:02','HLA-B*07:02','HLA-B*08:01','HLA-B*15:01','HLA-B*35:01','HLA-B*40:01','HLA-B*44:02','HLA-B*44:03','HLA-B*51:01','HLA-B*53:01','HLA-B*57:01','HLA-B*58:01']\n",
    "\n",
    "# define parameters for this prediction\n",
    "allele_list = hla_ref_set_mhc1\n",
    "lengths_list = [9,10]\n",
    "read_dir = 'data/ConservedRegion_Ryan'\n",
    "write_file = 'data/Binding_Prediction/mhc1_test3/mhc1_test3_api_result_sars.csv'\n",
    "site = 'http://tools-cluster-interface.iedb.org/tools_api/mhci/'\n",
    "mhc_class = 'MHC I'\n"
   ]
  },
  {
   "cell_type": "code",
   "execution_count": 16,
   "metadata": {},
   "outputs": [
    {
     "name": "stdout",
     "output_type": "stream",
     "text": [
      "....\n",
      "CPU times: user 42.5 ms, sys: 9.23 ms, total: 51.7 ms\n",
      "Wall time: 39.6 s\n"
     ]
    }
   ],
   "source": [
    "%%time\n",
    "\n",
    "# read data\n",
    "files = get_csv_filenames(read_dir)\n",
    "df = build_conserved_dataframe(files)\n",
    "\n",
    "# build query string components\n",
    "a_str, l_str = build_alleles_and_length_strings(allele_list,lengths_list)\n",
    "\n",
    "# perform predictions\n",
    "predictions = get_prediction_results(df,a_str,l_str,site,mhc_class)\n",
    "\n",
    "# save results to file\n",
    "save_predictions(predictions,write_file)\n"
   ]
  },
  {
   "cell_type": "markdown",
   "metadata": {},
   "source": [
    "## MHC II"
   ]
  },
  {
   "cell_type": "code",
   "execution_count": 17,
   "metadata": {},
   "outputs": [],
   "source": [
    "# HLA allele reference set\n",
    "hla_ref_set_mhc2 = ['HLA-DRB1*01:01','HLA-DRB1*03:01','HLA-DRB1*04:01','HLA-DRB1*04:05','HLA-DRB1*07:01','HLA-DRB1*08:02','HLA-DRB1*09:01','HLA-DRB1*11:01','HLA-DRB1*12:01','HLA-DRB1*13:02','HLA-DRB1*15:01','HLA-DRB3*01:01','HLA-DRB3*02:02','HLA-DRB4*01:01','HLA-DRB5*01:01','HLA-DQA1*05:01/DQB1*02:01','HLA-DQA1*05:01/DQB1*03:01','HLA-DQA1*03:01/DQB1*03:02','HLA-DQA1*04:01/DQB1*04:02','HLA-DQA1*01:01/DQB1*05:01','HLA-DQA1*01:02/DQB1*06:02','HLA-DPA1*02:01/DPB1*01:01','HLA-DPA1*01:03/DPB1*02:01','HLA-DPA1*01:03/DPB1*04:01','HLA-DPA1*03:01/DPB1*04:02','HLA-DPA1*02:01/DPB1*05:01','HLA-DPA1*02:01/DPB1*14:01']\n",
    "\n",
    "# define parameters for this prediction\n",
    "allele_list = hla_ref_set_mhc2\n",
    "lengths_list = [15,16]\n",
    "read_dir = 'data/ConservedRegion_Ryan'\n",
    "write_file = 'data/Binding_Prediction/mhc2_test3/mhc2_test3_api_result_sars.csv'\n",
    "site = 'http://tools-cluster-interface.iedb.org/tools_api/mhcii/'\n",
    "mhc_class = 'MHC II'\n"
   ]
  },
  {
   "cell_type": "code",
   "execution_count": 28,
   "metadata": {},
   "outputs": [
    {
     "name": "stdout",
     "output_type": "stream",
     "text": [
      "..\n",
      "CPU times: user 30.8 ms, sys: 5.8 ms, total: 36.6 ms\n",
      "Wall time: 9.31 s\n"
     ]
    }
   ],
   "source": [
    "%%time\n",
    "\n",
    "# read data\n",
    "files = get_csv_filenames(read_dir)\n",
    "df = build_conserved_dataframe(files,minlength=15)\n",
    "\n",
    "# build query string components\n",
    "a_str, l_str = build_alleles_and_length_strings(allele_list,lengths_list)\n",
    "\n",
    "# perform predictions\n",
    "predictions = get_prediction_results(df,a_str,l_str,site,mhc_class)\n",
    "\n",
    "# save results to file\n",
    "save_predictions(predictions,write_file)\n"
   ]
  },
  {
   "cell_type": "code",
   "execution_count": null,
   "metadata": {},
   "outputs": [],
   "source": []
  }
 ],
 "metadata": {
  "colab": {
   "collapsed_sections": [],
   "name": "02-518/02-718 Homework 4 Template",
   "provenance": []
  },
  "kernelspec": {
   "display_name": "Python 3",
   "language": "python",
   "name": "python3"
  },
  "language_info": {
   "codemirror_mode": {
    "name": "ipython",
    "version": 3
   },
   "file_extension": ".py",
   "mimetype": "text/x-python",
   "name": "python",
   "nbconvert_exporter": "python",
   "pygments_lexer": "ipython3",
   "version": "3.8.5"
  }
 },
 "nbformat": 4,
 "nbformat_minor": 1
}
