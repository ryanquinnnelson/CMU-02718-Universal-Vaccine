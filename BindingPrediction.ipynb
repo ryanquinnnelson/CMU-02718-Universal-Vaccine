{
 "cells": [
  {
   "cell_type": "markdown",
   "metadata": {
    "id": "Iy3teqLuUO0a"
   },
   "source": [
    "# Binding Prediction via API\n",
    "\n",
    "http://tools.iedb.org/main/tools-api/"
   ]
  },
  {
   "cell_type": "markdown",
   "metadata": {},
   "source": [
    "## MHC I"
   ]
  },
  {
   "cell_type": "code",
   "execution_count": 13,
   "metadata": {},
   "outputs": [],
   "source": [
    "import requests"
   ]
  },
  {
   "cell_type": "code",
   "execution_count": 14,
   "metadata": {},
   "outputs": [],
   "source": [
    "# settings\n",
    "data = {'method':'smm',\n",
    "        'sequence_text':'SLYNTVATLYCVHQRIDV',\n",
    "        'allele':'HLA-A*01:01',\n",
    "        'length':'9'}"
   ]
  },
  {
   "cell_type": "code",
   "execution_count": 10,
   "metadata": {},
   "outputs": [],
   "source": [
    "# perform prediction\n",
    "site = 'http://tools-cluster-interface.iedb.org/tools_api/mhci/'  \n",
    "r = requests.post(site, data=data)"
   ]
  },
  {
   "cell_type": "code",
   "execution_count": 23,
   "metadata": {},
   "outputs": [
    {
     "name": "stdout",
     "output_type": "stream",
     "text": [
      "allele\tseq_num\tstart\tend\tlength\tpeptide\tic50\tpercentile_rank\n",
      "HLA-A*01:01\t1\t2\t10\t9\tLYNTVATLY\t1286.92\t1.3\n",
      "HLA-A*01:01\t1\t4\t12\t9\tNTVATLYCV\t6061.08\t5.5\n",
      "HLA-A*01:01\t1\t3\t11\t9\tYNTVATLYC\t27896.52\t21\n",
      "HLA-A*01:01\t1\t8\t16\t9\tTLYCVHQRI\t36774.77\t24\n",
      "HLA-A*01:01\t1\t5\t13\t9\tTVATLYCVH\t49607.80\t30\n",
      "HLA-A*01:01\t1\t10\t18\t9\tYCVHQRIDV\t56565.29\t32\n",
      "HLA-A*01:01\t1\t7\t15\t9\tATLYCVHQR\t83090.24\t39\n",
      "HLA-A*01:01\t1\t1\t9\t9\tSLYNTVATL\t85418.12\t40\n",
      "HLA-A*01:01\t1\t6\t14\t9\tVATLYCVHQ\t282195.45\t68\n",
      "HLA-A*01:01\t1\t9\t17\t9\tLYCVHQRID\t491529.97\t79\n",
      "\n"
     ]
    }
   ],
   "source": [
    "import csv\n",
    "\n",
    "# save into CSV format\n",
    "with open('test.csv', mode='w') as write_file:\n",
    "    file_writer = csv.writer(write_file, delimiter=',')\n",
    "    \n",
    "    for each_row in r.text.split('\\n'):\n",
    "        file_writer.writerow(each_row.split('\\t'))"
   ]
  }
 ],
 "metadata": {
  "colab": {
   "collapsed_sections": [],
   "name": "02-518/02-718 Homework 4 Template",
   "provenance": []
  },
  "kernelspec": {
   "display_name": "Python 3",
   "language": "python",
   "name": "python3"
  },
  "language_info": {
   "codemirror_mode": {
    "name": "ipython",
    "version": 3
   },
   "file_extension": ".py",
   "mimetype": "text/x-python",
   "name": "python",
   "nbconvert_exporter": "python",
   "pygments_lexer": "ipython3",
   "version": "3.8.5"
  }
 },
 "nbformat": 4,
 "nbformat_minor": 1
}
