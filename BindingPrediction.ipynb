{
 "cells": [
  {
   "cell_type": "markdown",
   "metadata": {
    "id": "Iy3teqLuUO0a"
   },
   "source": [
    "# Binding Prediction via API\n",
    "\n",
    "http://tools.iedb.org/main/tools-api/"
   ]
  },
  {
   "cell_type": "markdown",
   "metadata": {},
   "source": [
    "## MHC I"
   ]
  },
  {
   "cell_type": "code",
   "execution_count": 37,
   "metadata": {},
   "outputs": [],
   "source": [
    "import requests\n",
    "import csv"
   ]
  },
  {
   "cell_type": "code",
   "execution_count": 61,
   "metadata": {},
   "outputs": [],
   "source": [
    "# HLA allele reference set (27 alleles long)\n",
    "hla_ref_set_mhc1_27 = 'HLA-A*01:01,HLA-A*02:01,HLA-A*02:03,HLA-A*02:06,HLA-A*03:01,HLA-A*11:01,HLA-A*23:01,HLA-A*24:02,HLA-A*26:01,HLA-A*30:01,HLA-A*30:02,HLA-A*31:01,HLA-A*32:01,HLA-A*33:01,HLA-A*68:01,HLA-A*68:02,HLA-B*07:02,HLA-B*08:01,HLA-B*15:01,HLA-B*35:01,HLA-B*40:01,HLA-B*44:02,HLA-B*44:03,HLA-B*51:01,HLA-B*53:01,HLA-B*57:01,HLA-B*58:01'\n",
    "\n",
    "# length must be set for each allele separately\n",
    "length_mch1_27 = '9,9,9,9,9,9,9,9,9,9,9,9,9,9,9,9,9,9,9,9,9,9,9,9,9,9,9'\n",
    "\n",
    "\n",
    "# HLA allele reference set (27 alleles long * 2, one for each length 9 and 10)\n",
    "hla_ref_set_mhc1_54 = hla_ref_set_mhc1_27 + \",\" + hla_ref_set_mhc1_27\n",
    "\n",
    "# length must be set for each allele separately\n",
    "length_mch1_54 = '9,9,9,9,9,9,9,9,9,9,9,9,9,9,9,9,9,9,9,9,9,9,9,9,9,9,9,10,10,10,10,10,10,10,10,10,10,10,10,10,10,10,10,10,10,10,10,10,10,10,10,10,10,10'\n",
    "\n",
    "\n"
   ]
  },
  {
   "cell_type": "code",
   "execution_count": 59,
   "metadata": {},
   "outputs": [],
   "source": [
    "def read_data(filename):\n",
    "    \n",
    "    # read in single sequence\n",
    "    with open(filename, mode='r') as read_file:\n",
    "        return read_file.readline().strip('\\n')\n",
    "    \n",
    "    \n",
    "def predict_mhc1(a_set,l_set,sequence):\n",
    "    '''\n",
    "    Note that the default value for species is human.\n",
    "    '''\n",
    "    \n",
    "    # define post\n",
    "    data = {'method':'recommended',\n",
    "            'allele':a_set,\n",
    "            'length':l_set,\n",
    "            'sequence_text':sequence}\n",
    "\n",
    "    site = 'http://tools-cluster-interface.iedb.org/tools_api/mhci/'  \n",
    "\n",
    "    # perform prediction\n",
    "    return requests.post(site, data=data)\n",
    "\n",
    "\n",
    "def write_csv(response, filename):\n",
    "    \n",
    "    with open(filename, mode='w') as write_file:\n",
    "        file_writer = csv.writer(write_file, delimiter=',')\n",
    "\n",
    "        for each_row in response.text.split('\\n'):\n",
    "            file_writer.writerow(each_row.split('\\t'))"
   ]
  },
  {
   "cell_type": "code",
   "execution_count": null,
   "metadata": {},
   "outputs": [],
   "source": [
    "# perform prediction for each sequence\n",
    "s = read_data('data/Binding_Prediction/test_sequence2.txt')\n",
    "r = predict_mhc1(hla_ref_set_mhc1_54,length_mch1_54,s)\n",
    "write_csv(r, 'data/Binding_Prediction/test_result3.csv')"
   ]
  },
  {
   "cell_type": "code",
   "execution_count": 50,
   "metadata": {},
   "outputs": [],
   "source": [
    "# combine results into single csv"
   ]
  }
 ],
 "metadata": {
  "colab": {
   "collapsed_sections": [],
   "name": "02-518/02-718 Homework 4 Template",
   "provenance": []
  },
  "kernelspec": {
   "display_name": "Python 3",
   "language": "python",
   "name": "python3"
  },
  "language_info": {
   "codemirror_mode": {
    "name": "ipython",
    "version": 3
   },
   "file_extension": ".py",
   "mimetype": "text/x-python",
   "name": "python",
   "nbconvert_exporter": "python",
   "pygments_lexer": "ipython3",
   "version": "3.8.5"
  }
 },
 "nbformat": 4,
 "nbformat_minor": 1
}
