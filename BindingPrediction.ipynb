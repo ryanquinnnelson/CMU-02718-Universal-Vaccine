{
 "cells": [
  {
   "cell_type": "markdown",
   "metadata": {
    "id": "Iy3teqLuUO0a"
   },
   "source": [
    "# Binding Prediction via API\n",
    "\n",
    "http://tools.iedb.org/main/tools-api/"
   ]
  },
  {
   "cell_type": "markdown",
   "metadata": {},
   "source": [
    "## MHC I"
   ]
  },
  {
   "cell_type": "code",
   "execution_count": 1,
   "metadata": {},
   "outputs": [
    {
     "ename": "ModuleNotFoundError",
     "evalue": "No module named 'pandas'",
     "output_type": "error",
     "traceback": [
      "\u001b[0;31m---------------------------------------------------------------------------\u001b[0m",
      "\u001b[0;31mModuleNotFoundError\u001b[0m                       Traceback (most recent call last)",
      "\u001b[0;32m<ipython-input-1-fac5ce8faf9a>\u001b[0m in \u001b[0;36m<module>\u001b[0;34m\u001b[0m\n\u001b[1;32m      1\u001b[0m \u001b[0;32mimport\u001b[0m \u001b[0mrequests\u001b[0m\u001b[0;34m\u001b[0m\u001b[0;34m\u001b[0m\u001b[0m\n\u001b[1;32m      2\u001b[0m \u001b[0;32mimport\u001b[0m \u001b[0mcsv\u001b[0m\u001b[0;34m\u001b[0m\u001b[0;34m\u001b[0m\u001b[0m\n\u001b[0;32m----> 3\u001b[0;31m \u001b[0;32mimport\u001b[0m \u001b[0mpandas\u001b[0m \u001b[0;32mas\u001b[0m \u001b[0mpd\u001b[0m\u001b[0;34m\u001b[0m\u001b[0;34m\u001b[0m\u001b[0m\n\u001b[0m",
      "\u001b[0;31mModuleNotFoundError\u001b[0m: No module named 'pandas'"
     ]
    }
   ],
   "source": [
    "import requests\n",
    "import csv\n",
    "import pandas as pd\n",
    "import os"
   ]
  },
  {
   "cell_type": "code",
   "execution_count": 89,
   "metadata": {},
   "outputs": [],
   "source": [
    "# HLA allele reference set (27 alleles long)\n",
    "hla_ref_set_mhc1 = ['HLA-A*01:01','HLA-A*02:01','HLA-A*02:03','HLA-A*02:06','HLA-A*03:01','HLA-A*11:01','HLA-A*23:01','HLA-A*24:02','HLA-A*26:01','HLA-A*30:01','HLA-A*30:02','HLA-A*31:01','HLA-A*32:01','HLA-A*33:01','HLA-A*68:01','HLA-A*68:02','HLA-B*07:02','HLA-B*08:01','HLA-B*15:01','HLA-B*35:01','HLA-B*40:01','HLA-B*44:02','HLA-B*44:03','HLA-B*51:01','HLA-B*53:01','HLA-B*57:01','HLA-B*58:01']\n",
    "\n"
   ]
  },
  {
   "cell_type": "code",
   "execution_count": 90,
   "metadata": {},
   "outputs": [],
   "source": [
    "def read_data(filename):\n",
    "    \n",
    "    # read in single sequence\n",
    "    with open(filename, mode='r') as read_file:\n",
    "        return read_file.readline().strip('\\n')\n",
    "    \n",
    "\n",
    "\n",
    "    \n",
    "def build_alleles_and_length_strings(alleles,lengths):\n",
    "    \n",
    "    a_list = list()\n",
    "    l_list = list()\n",
    "    \n",
    "    for l in lengths:\n",
    "        a_list += alleles # create a copy of the alleles for each length\n",
    "        l_list += [str(l) for i in range(len(alleles))] # generate a length for each allele in the copy\n",
    "        \n",
    "    # concatenate elements in each list with comma separator\n",
    "    joined_a = \",\".join(a_list)\n",
    "    joined_l = \",\".join(l_list)\n",
    "    \n",
    "    return (joined_a,joined_l)   \n",
    "\n",
    "    \n",
    "def predict_mhc1(a_set,l_set,sequence):\n",
    "    '''\n",
    "    Note that the default value for species is human.\n",
    "    '''\n",
    "    \n",
    "    # define post\n",
    "    data = {'method':'recommended',\n",
    "            'allele':a_set,\n",
    "            'length':l_set,\n",
    "            'sequence_text':sequence}\n",
    "\n",
    "    site = 'http://tools-cluster-interface.iedb.org/tools_api/mhci/'  \n",
    "\n",
    "    # perform prediction\n",
    "    return requests.post(site, data=data)\n",
    "\n",
    "\n",
    "def save_result(response, filename):\n",
    "    \n",
    "    with open(filename, mode='w') as write_file:\n",
    "        file_writer = csv.writer(write_file, delimiter=',')\n",
    "\n",
    "        for each_row in response.text.split('\\n'):\n",
    "            file_writer.writerow(each_row.split('\\t'))"
   ]
  },
  {
   "cell_type": "code",
   "execution_count": null,
   "metadata": {},
   "outputs": [],
   "source": [
    "# get list of filenames to process\n",
    "files = os.listdir('data/ConservedRegion')\n",
    "print(files)\n",
    "\n",
    "\n",
    "\n",
    "\n",
    "\n",
    "# define parameters for this prediction\n",
    "\n",
    "\n",
    "\n",
    "#pd.read_csv(filename)"
   ]
  },
  {
   "cell_type": "code",
   "execution_count": null,
   "metadata": {},
   "outputs": [],
   "source": []
  },
  {
   "cell_type": "code",
   "execution_count": null,
   "metadata": {},
   "outputs": [],
   "source": []
  },
  {
   "cell_type": "code",
   "execution_count": null,
   "metadata": {},
   "outputs": [],
   "source": []
  },
  {
   "cell_type": "code",
   "execution_count": 91,
   "metadata": {},
   "outputs": [],
   "source": [
    "# define parameters for this prediction\n",
    "read_file = 'data/Binding_Prediction/mhc1_test1/mhc1_test1_api_seq.txt'\n",
    "write_file = 'data/Binding_Prediction/mhc1_test1/mhc1_test1_api_result.csv'\n",
    "allele_list = hla_ref_set_mhc1\n",
    "lengths_list = [9,10]\n",
    "\n",
    "# perform prediction for this sequence\n",
    "seq = read_data(read_file)\n",
    "a_str,l_str = build_alleles_and_length_strings(allele_list, lengths_list)\n",
    "r1 = predict_mhc1(a_str,l_str,seq)\n",
    "save_result(r1, write_file)"
   ]
  },
  {
   "cell_type": "code",
   "execution_count": 50,
   "metadata": {},
   "outputs": [],
   "source": [
    "# combine results into single csv?"
   ]
  },
  {
   "cell_type": "markdown",
   "metadata": {},
   "source": [
    "## MHC II"
   ]
  },
  {
   "cell_type": "code",
   "execution_count": 95,
   "metadata": {},
   "outputs": [],
   "source": [
    "# HLA allele reference set\n",
    "hla_ref_set_mhc2 = ['HLA-DRB1*01:01','HLA-DRB1*03:01','HLA-DRB1*04:01','HLA-DRB1*04:05','HLA-DRB1*07:01','HLA-DRB1*08:02','HLA-DRB1*09:01','HLA-DRB1*11:01','HLA-DRB1*12:01','HLA-DRB1*13:02','HLA-DRB1*15:01','HLA-DRB3*01:01','HLA-DRB3*02:02','HLA-DRB4*01:01','HLA-DRB5*01:01','HLA-DQA1*05:01/DQB1*02:01','HLA-DQA1*05:01/DQB1*03:01','HLA-DQA1*03:01/DQB1*03:02','HLA-DQA1*04:01/DQB1*04:02','HLA-DQA1*01:01/DQB1*05:01','HLA-DQA1*01:02/DQB1*06:02','HLA-DPA1*02:01/DPB1*01:01','HLA-DPA1*01:03/DPB1*02:01','HLA-DPA1*01:03/DPB1*04:01','HLA-DPA1*03:01/DPB1*04:02','HLA-DPA1*02:01/DPB1*05:01','HLA-DPA1*02:01/DPB1*14:01']\n"
   ]
  },
  {
   "cell_type": "code",
   "execution_count": 96,
   "metadata": {},
   "outputs": [],
   "source": [
    "def predict_mhc2(a_set,l_set,sequence):\n",
    "    '''\n",
    "    API doesn't appear to allow us to set species/locus.\n",
    "    '''\n",
    "    \n",
    "    # define post\n",
    "    data = {'method':'recommended',\n",
    "            'allele':a_set,\n",
    "            'length':l_set,\n",
    "            'sequence_text':sequence}\n",
    "\n",
    "    site = 'http://tools-cluster-interface.iedb.org/tools_api/mhcii/'  \n",
    "\n",
    "    # perform prediction\n",
    "    return requests.post(site, data=data)"
   ]
  },
  {
   "cell_type": "code",
   "execution_count": 99,
   "metadata": {},
   "outputs": [],
   "source": [
    "# define parameters for this prediction\n",
    "read_file = 'data/Binding_Prediction/mhc2_test2/mhc2_test2_api_seq.txt'\n",
    "write_file = 'data/Binding_Prediction/mhc2_test2/mhc2_test2_api_result.csv'\n",
    "allele_list = hla_ref_set_mhc2\n",
    "lengths_list = [15,16]\n",
    "\n",
    "# perform prediction for this sequence\n",
    "seq = read_data(read_file)\n",
    "a_str,l_str = build_alleles_and_length_strings(allele_list, lengths_list)\n",
    "r2 = predict_mhc2(a_str,l_str,seq)\n",
    "save_result(r2, write_file)"
   ]
  },
  {
   "cell_type": "code",
   "execution_count": null,
   "metadata": {},
   "outputs": [],
   "source": []
  }
 ],
 "metadata": {
  "colab": {
   "collapsed_sections": [],
   "name": "02-518/02-718 Homework 4 Template",
   "provenance": []
  },
  "kernelspec": {
   "display_name": "Python 3",
   "language": "python",
   "name": "python3"
  },
  "language_info": {
   "codemirror_mode": {
    "name": "ipython",
    "version": 3
   },
   "file_extension": ".py",
   "mimetype": "text/x-python",
   "name": "python",
   "nbconvert_exporter": "python",
   "pygments_lexer": "ipython3",
   "version": "3.8.5"
  }
 },
 "nbformat": 4,
 "nbformat_minor": 1
}
