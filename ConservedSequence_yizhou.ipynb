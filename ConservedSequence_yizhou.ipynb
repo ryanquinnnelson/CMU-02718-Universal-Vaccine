{
 "cells": [
  {
   "cell_type": "markdown",
   "metadata": {},
   "source": [
    "## Download sequence files"
   ]
  },
  {
   "cell_type": "markdown",
   "metadata": {},
   "source": [
    "Sequencec files are downloaed from NCBI database: https://www.ncbi.nlm.nih.gov/labs/virus/vssi/#/virus?SeqType_s=Protein&HostLineage_ss=Homo%20(humans),%20taxid:9605&ProtNames_ss=spike%20protein&ProtNames_ss=surface%20glycoprotein&VirusLineage_ss=Severe%20acute%20respiratory%20syndrome%20coronavirus%202%20(SARS-CoV-2),%20taxid:2697049&VirusLineage_ss=Severe%20acute%20respiratory%20syndrome-related%20coronavirus,%20taxid:694009&VirusLineage_ss=Middle%20East%20respiratory%20syndrome-related%20coronavirus%20(MERS-CoV),%20taxid:1335626&SLen_i=1250%20TO%201400. The length of the sequence is limited to 1250-1400 to avoid having too many gaps due to imcomplete sequences.\n",
    "\n",
    "Command line separating one fasta file into several so the files are of appropriate size to put into MUSCLE: pyfasta split -n 72 all.fasta"
   ]
  },
  {
   "cell_type": "markdown",
   "metadata": {},
   "source": [
    "## MUSCLE alignment: https://www.ebi.ac.uk/Tools/msa/muscle/ to obtain a .clw file"
   ]
  },
  {
   "cell_type": "code",
   "execution_count": 12,
   "metadata": {},
   "outputs": [],
   "source": [
    "from Bio import SeqIO\n",
    "import numpy as np\n",
    "import csv"
   ]
  },
  {
   "cell_type": "code",
   "execution_count": 57,
   "metadata": {},
   "outputs": [],
   "source": [
    "# MERS\n",
    "sequence_file = '/Users/tracy/Documents/GitHub/Universal-Vaccine/data/ConservedRegion/MERS.fasta'\n",
    "alignment_file = '/Users/tracy/Documents/GitHub/Universal-Vaccine/data/ConservedRegion/MERS.clw'\n",
    "requirement = ['*']\n",
    "min_len = 9\n",
    "\n",
    "positions, seq = ConservedRegion(sequence_file, alignment_file, requirement, min_len)\n",
    "filename = '/Users/tracy/Documents/GitHub/Universal-Vaccine/data/ConservedRegion/MERS_Conserved.csv'\n",
    "save_to_file(filename, positions, seq)"
   ]
  },
  {
   "cell_type": "code",
   "execution_count": null,
   "metadata": {},
   "outputs": [],
   "source": [
    "# SARS"
   ]
  },
  {
   "cell_type": "code",
   "execution_count": 55,
   "metadata": {},
   "outputs": [],
   "source": [
    "def save_to_file(filename, positions, seq):\n",
    "    \n",
    "    title = [\"Index\", \"Sequence\", \"Length\"]\n",
    "    file = []\n",
    "    for i in range(len(positions)):\n",
    "        line = []\n",
    "        line.append(\"(\"+ str(positions[i][0]) + \", \" +str(positions[i][1]-1)+\")\")\n",
    "        line.append(seq[positions[i][0]: positions[i][1]])\n",
    "        line.append(positions[i][1]- positions[i][0])\n",
    "        file.append(line)\n",
    "\n",
    "    with open(filename, 'w') as csvfile:  \n",
    "        csvwriter = csv.writer(csvfile)  \n",
    "        csvwriter.writerow(title)  \n",
    "        csvwriter.writerows(file) "
   ]
  },
  {
   "cell_type": "code",
   "execution_count": 24,
   "metadata": {},
   "outputs": [],
   "source": [
    "def ConservedRegion(sequence_file, alignment_file, requirement, min_len):\n",
    "    # Count the number of sequences in the sequence file\n",
    "    num_seq = CountNumSeq(sequence_file)\n",
    "    \n",
    "    # Read in MUSCLE alignment file\n",
    "    x = open(alignment_file, 'r')\n",
    "    aln = x.read()\n",
    "    x.close\n",
    "    \n",
    "    # Get a list of the alignment file\n",
    "    ls = aln.split('\\n')\n",
    "    # Remove the first three elements of the list (title and the leading empty lines)\n",
    "    del ls[:3]\n",
    "    # Remove the empty line separating the sequence\n",
    "    del ls[num_seq+1::num_seq+2]\n",
    "    \n",
    "    # Remove accession numbers:\n",
    "    no_acc = RemoveAccession(ls, num_seq)\n",
    "    \n",
    "    # Get the desired list of string\n",
    "    seq_mat = ['']*(num_seq +1)\n",
    "    for i in range (len(no_acc)):\n",
    "        for j in range(num_seq +1):\n",
    "            if i%(num_seq +1) == j:\n",
    "                seq_mat[j] += no_acc[i]\n",
    "                \n",
    "    align_score = seq_mat[-1]\n",
    "    positions = FindConservedRegionWithMinimumLength(align_score, requirement, min_len)\n",
    "\n",
    "    return positions, seq_mat[0]"
   ]
  },
  {
   "cell_type": "code",
   "execution_count": 5,
   "metadata": {},
   "outputs": [],
   "source": [
    "# CountNumSeq counts the number of sequences in a FASTA sequences file\n",
    "def CountNumSeq(filename):\n",
    "    arrays = list()\n",
    "\n",
    "    with open(filename, \"r\") as handle:\n",
    "        for record in SeqIO.parse(handle, \"fasta\"):\n",
    "            arrays.append(np.array([char for char in record.seq]))\n",
    "\n",
    "    seq = np.array(arrays)\n",
    "    num_seq = len(seq)\n",
    "    return num_seq"
   ]
  },
  {
   "cell_type": "markdown",
   "metadata": {},
   "source": [
    "### Remove accession number"
   ]
  },
  {
   "cell_type": "code",
   "execution_count": 6,
   "metadata": {},
   "outputs": [],
   "source": [
    "# Remove Accession removes the accession numbers from the list.\n",
    "def RemoveAccession(ls, num_seq):\n",
    "    no_acc = []\n",
    "    line_len = len(ls[0].split(' ')[-1])\n",
    "    last_seq_len = len(ls[-2].split(' ')[-1])\n",
    "\n",
    "    # Everything but the last couple of lines where length may not equal full length\n",
    "    for ele in range(len(ls)):\n",
    "        if ele%(num_seq+1) != num_seq:\n",
    "            no_acc.append(ls[ele].split(' ')[-1])\n",
    "        else:\n",
    "            sig = ls[ele].lstrip()\n",
    "            add_space = line_len - len(sig)\n",
    "        \n",
    "            if add_space != 0:\n",
    "                sig = \" \"*add_space + sig\n",
    "            no_acc.append(sig)\n",
    "    \n",
    "    # Deal with the last couple of lines\n",
    "    last_line = no_acc[-1].lstrip()\n",
    "    add_to_last = last_seq_len - len(last_line)\n",
    "\n",
    "    if add_to_last != 0:\n",
    "        last_line = \" \"*add_to_last + last_line\n",
    "    no_acc[-1] = last_line\n",
    "    return no_acc"
   ]
  },
  {
   "cell_type": "markdown",
   "metadata": {},
   "source": [
    "### Get the starting and ending positions of the conserved sequences, based on the scores.  Store this the range if it is at least of length 8."
   ]
  },
  {
   "cell_type": "markdown",
   "metadata": {},
   "source": [
    "https://en.wikipedia.org/wiki/Clustal about scoring:\n",
    "\n",
    "asterisk *   -   positions that have a single and fully conserved residue\n",
    "\n",
    "collon :  -  conservation between groups of strongly similar properties with a score greater than .5 on the PAM 250 matrix\n",
    "\n",
    "period .  -  conservation between groups of weakly similar properties with a score less than or equal to .5 on the PAM 250 matrix"
   ]
  },
  {
   "cell_type": "markdown",
   "metadata": {},
   "source": [
    "#### !!! The starting position is inclusive and ending position is not, to make indexing more convenient !!!"
   ]
  },
  {
   "cell_type": "code",
   "execution_count": 7,
   "metadata": {},
   "outputs": [],
   "source": [
    "# scores is the alignment score (last string of the list of strings)\n",
    "# requirement is a list of strings that can be '*' or '.' or ':'\n",
    "# min_len is the minimum length. In our case it should be 8\n",
    "\n",
    "def FindConservedRegionWithMinimumLength(scores, requirement, min_len = 8):\n",
    "    conserved = []\n",
    "    align_fix_len = FindConservedRegionFixedLength(scores, requirement, min_len)\n",
    "    if len(align_fix_len) != 0:\n",
    "        conserved.append(align_fix_len[0])\n",
    "        for i in range(1, len(align_fix_len)):\n",
    "            if align_fix_len[i][1] != align_fix_len[i-1][1]:\n",
    "                conserved.append(align_fix_len[i])\n",
    "    return conserved"
   ]
  },
  {
   "cell_type": "code",
   "execution_count": 8,
   "metadata": {},
   "outputs": [],
   "source": [
    "def FindConservedRegionFixedLength(scores, requirement, min_len = 8):\n",
    "    align_ind = []\n",
    "\n",
    "    for i in range(len(scores)-min_len):\n",
    "        if scores[i] in requirement:\n",
    "            stop = False\n",
    "            ali_num =0\n",
    "            now = i\n",
    "            while stop == False and now < len(scores)-1:\n",
    "                now += 1\n",
    "                if scores[now] in requirement:\n",
    "                    ali_num += 1\n",
    "                else:\n",
    "                    stop = True\n",
    "            ali_range = [i, now]\n",
    "            if (now - i < min_len) == False:\n",
    "                align_ind.append(ali_range)\n",
    "    return align_ind"
   ]
  },
  {
   "cell_type": "markdown",
   "metadata": {},
   "source": [
    "### Pick a reference sequence from all the virus sequences, and let the sequence corresponding to the range obtained in the previous step be our consensus sequence. (not sure if this is acceptable?)"
   ]
  }
 ],
 "metadata": {
  "colab": {
   "collapsed_sections": [],
   "name": "02-518/02-718 Homework 4 Template",
   "provenance": []
  },
  "kernelspec": {
   "display_name": "Python 3",
   "language": "python",
   "name": "python3"
  },
  "language_info": {
   "codemirror_mode": {
    "name": "ipython",
    "version": 3
   },
   "file_extension": ".py",
   "mimetype": "text/x-python",
   "name": "python",
   "nbconvert_exporter": "python",
   "pygments_lexer": "ipython3",
   "version": "3.7.4"
  }
 },
 "nbformat": 4,
 "nbformat_minor": 1
}
