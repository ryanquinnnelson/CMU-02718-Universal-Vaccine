{
 "cells": [
  {
   "cell_type": "markdown",
   "metadata": {},
   "source": [
    "## MUSCLE alignment: https://www.ebi.ac.uk/Tools/msa/muscle/ to obtain a .clw file"
   ]
  },
  {
   "cell_type": "code",
   "execution_count": 28,
   "metadata": {},
   "outputs": [],
   "source": [
    "from Bio import SeqIO\n",
    "import numpy as np"
   ]
  },
  {
   "cell_type": "code",
   "execution_count": 46,
   "metadata": {},
   "outputs": [],
   "source": [
    "sequence_file = '/Users/tracy/Documents/GitHub/Universal-Vaccine/data/ConservedRegion/test.fasta'\n",
    "alignment_file = '/Users/tracy/Documents/GitHub/Universal-Vaccine/data/ConservedRegion/test_ala.clw'\n",
    "requirement = ['*']\n",
    "min_len = 8"
   ]
  },
  {
   "cell_type": "code",
   "execution_count": 47,
   "metadata": {},
   "outputs": [
    {
     "data": {
      "text/plain": [
       "[[988, 1000], [1166, 1178]]"
      ]
     },
     "execution_count": 47,
     "metadata": {},
     "output_type": "execute_result"
    }
   ],
   "source": [
    "test = ConservedRegion(sequence_file, alignment_file, requirement, min_len)\n",
    "test"
   ]
  },
  {
   "cell_type": "code",
   "execution_count": 31,
   "metadata": {},
   "outputs": [],
   "source": [
    "def ConservedRegion(sequence_file, alignment_file, requirement, min_len):\n",
    "    # Count the number of sequences in the sequence file\n",
    "    num_seq = CountNumSeq(sequence_file)\n",
    "    \n",
    "    # Read in MUSCLE alignment file\n",
    "    x = open(alignment_file, 'r')\n",
    "    aln = x.read()\n",
    "    x.close\n",
    "    \n",
    "    # Get a list of the alignment file\n",
    "    ls = aln.split('\\n')\n",
    "    # Remove the first three elements of the list (title and the leading empty lines)\n",
    "    del ls[:3]\n",
    "    # Remove the empty line separating the sequence\n",
    "    del ls[num_seq+1::num_seq+2]\n",
    "    \n",
    "    # Remove accession numbers:\n",
    "    no_acc = RemoveAccession(ls, num_seq)\n",
    "    \n",
    "    # Get the desired list of string\n",
    "    seq_mat = ['']*(num_seq +1)\n",
    "    for i in range (len(no_acc)):\n",
    "        for j in range(num_seq +1):\n",
    "            if i%(num_seq +1) == j:\n",
    "                seq_mat[j] += no_acc[i]\n",
    "                \n",
    "    align_score = seq_mat[-1]\n",
    "    positions = FindConservedRegionWithMinimumLength(align_score, requirement, min_len)\n",
    "\n",
    "    return positions"
   ]
  },
  {
   "cell_type": "code",
   "execution_count": 32,
   "metadata": {},
   "outputs": [],
   "source": [
    "# CountNumSeq counts the number of sequences in a FASTA sequences file\n",
    "def CountNumSeq(filename):\n",
    "    arrays = list()\n",
    "\n",
    "    with open(filename, \"r\") as handle:\n",
    "        for record in SeqIO.parse(handle, \"fasta\"):\n",
    "            arrays.append(np.array([char for char in record.seq]))\n",
    "\n",
    "    seq = np.array(arrays)\n",
    "    num_seq = len(seq)\n",
    "    return num_seq"
   ]
  },
  {
   "cell_type": "markdown",
   "metadata": {},
   "source": [
    "### Remove accession number"
   ]
  },
  {
   "cell_type": "code",
   "execution_count": 33,
   "metadata": {},
   "outputs": [],
   "source": [
    "# Remove Accession removes the accession numbers from the list.\n",
    "def RemoveAccession(ls, num_seq):\n",
    "    no_acc = []\n",
    "    line_len = len(ls[0].split(' ')[-1])\n",
    "    last_seq_len = len(ls[-2].split(' ')[-1])\n",
    "\n",
    "    # Everything but the last couple of lines where length may not equal full length\n",
    "    for ele in range(len(ls)):\n",
    "        if ele%(num_seq+1) != num_seq:\n",
    "            no_acc.append(ls[ele].split(' ')[-1])\n",
    "        else:\n",
    "            sig = ls[ele].lstrip()\n",
    "            add_space = line_len - len(sig)\n",
    "        \n",
    "            if add_space != 0:\n",
    "                sig = \" \"*add_space + sig\n",
    "            no_acc.append(sig)\n",
    "    \n",
    "    # Deal with the last couple of lines\n",
    "    last_line = no_acc[-1].lstrip()\n",
    "    add_to_last = last_seq_len - len(last_line)\n",
    "\n",
    "    if add_to_last != 0:\n",
    "        last_line = \" \"*add_to_last + last_line\n",
    "    no_acc[-1] = last_line\n",
    "    return no_acc"
   ]
  },
  {
   "cell_type": "markdown",
   "metadata": {},
   "source": [
    "### Get the starting and ending positions of the conserved sequences, based on the scores.  Store this the range if it is at least of length 8."
   ]
  },
  {
   "cell_type": "markdown",
   "metadata": {},
   "source": [
    "https://en.wikipedia.org/wiki/Clustal about scoring:\n",
    "\n",
    "asterisk *   -   positions that have a single and fully conserved residue\n",
    "\n",
    "collon :  -  conservation between groups of strongly similar properties with a score greater than .5 on the PAM 250 matrix\n",
    "\n",
    "period .  -  conservation between groups of weakly similar properties with a score less than or equal to .5 on the PAM 250 matrix"
   ]
  },
  {
   "cell_type": "markdown",
   "metadata": {},
   "source": [
    "#### !!! The starting position is inclusive and ending position is not, to make indexing more convenient !!!"
   ]
  },
  {
   "cell_type": "code",
   "execution_count": 34,
   "metadata": {},
   "outputs": [],
   "source": [
    "# scores is the alignment score (last string of the list of strings)\n",
    "# requirement is a list of strings that can be '*' or '.' or ':'\n",
    "# min_len is the minimum length. In our case it should be 8\n",
    "\n",
    "def FindConservedRegionWithMinimumLength(scores, requirement, min_len = 8):\n",
    "    conserved = []\n",
    "    align_fix_len = FindConservedRegionFixedLength(scores, requirement, min_len)\n",
    "    if len(align_fix_len) != 0:\n",
    "        conserved.append(align_fix_len[0])\n",
    "        for i in range(1, len(align_fix_len)):\n",
    "            if align_fix_len[i][1] != align_fix_len[i-1][1]:\n",
    "                conserved.append(align_fix_len[i])\n",
    "    return conserved"
   ]
  },
  {
   "cell_type": "code",
   "execution_count": 35,
   "metadata": {},
   "outputs": [],
   "source": [
    "def FindConservedRegionFixedLength(scores, requirement, min_len = 8):\n",
    "    align_ind = []\n",
    "\n",
    "    for i in range(len(scores)-min_len):\n",
    "        if scores[i] in requirement:\n",
    "            stop = False\n",
    "            ali_num =0\n",
    "            now = i\n",
    "            while stop == False and now < len(scores)-1:\n",
    "                now += 1\n",
    "                if scores[now] in requirement:\n",
    "                    ali_num += 1\n",
    "                else:\n",
    "                    stop = True\n",
    "            ali_range = [i, now]\n",
    "            if (now - i < min_len) == False:\n",
    "                align_ind.append(ali_range)\n",
    "    return align_ind"
   ]
  },
  {
   "cell_type": "markdown",
   "metadata": {},
   "source": [
    "### Pick a reference sequence from all the virus sequences, and let the sequence corresponding to the range obtained in the previous step be our consensus sequence. (not sure if this is acceptable?)"
   ]
  }
 ],
 "metadata": {
  "colab": {
   "collapsed_sections": [],
   "name": "02-518/02-718 Homework 4 Template",
   "provenance": []
  },
  "kernelspec": {
   "display_name": "Python 3",
   "language": "python",
   "name": "python3"
  },
  "language_info": {
   "codemirror_mode": {
    "name": "ipython",
    "version": 3
   },
   "file_extension": ".py",
   "mimetype": "text/x-python",
   "name": "python",
   "nbconvert_exporter": "python",
   "pygments_lexer": "ipython3",
   "version": "3.7.4"
  }
 },
 "nbformat": 4,
 "nbformat_minor": 1
}
